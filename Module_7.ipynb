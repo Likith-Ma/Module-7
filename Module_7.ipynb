{
  "nbformat": 4,
  "nbformat_minor": 0,
  "metadata": {
    "colab": {
      "provenance": []
    },
    "kernelspec": {
      "name": "python3",
      "display_name": "Python 3"
    },
    "language_info": {
      "name": "python"
    }
  },
  "cells": [
    {
      "cell_type": "markdown",
      "source": [
        "1.What is the difference between interpreted and compiled languages?\n",
        "*   The key difference between compiled and interpreted programming languages lies in how the code is translated and executed. Compiled languages translate the entire source code into machine code before execution, while interpreted languages translate and execute the code line by line."
      ],
      "metadata": {
        "id": "hvyf5CJ9Z_B9"
      }
    },
    {
      "cell_type": "markdown",
      "source": [
        "2. What is exception handling in Python?\n",
        "*  In Python, exception handling is a mechanism for managing runtime errors (exceptions) that can occur during program execution, preventing the program from crashing or terminating abruptly."
      ],
      "metadata": {
        "id": "0nv7x2uEZ35J"
      }
    },
    {
      "cell_type": "markdown",
      "source": [
        "3. What is the purpose of the finally block in exception handling?\n",
        "*  The purpose of the finally block in exception handling is to ensure that a specific block of code, typically cleanup or resource release tasks, is executed regardless of whether an exception occurred or not within the try block.\n"
      ],
      "metadata": {
        "id": "ZiPxDtyzZgw1"
      }
    },
    {
      "cell_type": "markdown",
      "source": [
        "4.What is logging in Python?\n",
        "*  In Python, logging is a process of tracking events that occur during a program's execution.\n"
      ],
      "metadata": {
        "id": "FwmeBOpHa-5H"
      }
    },
    {
      "cell_type": "markdown",
      "source": [
        "5. What is the significance of the __del__ method in Python?\n",
        "*  It is called after an object's garbage collection occurs, which happens after all references to the item have been destroyed."
      ],
      "metadata": {
        "id": "X3AJhHQxbSYu"
      }
    },
    {
      "cell_type": "markdown",
      "source": [
        "6.What is the difference between import and from ... import in Python?\n",
        "* The difference between import and from import in Python is: import imports an entire code library. from import imports a specific member or members of the library.\n"
      ],
      "metadata": {
        "id": "D7zoGJ67bk6l"
      }
    },
    {
      "cell_type": "markdown",
      "source": [
        "7. How can you handle multiple exceptions in Python?\n",
        "*  Python allows you to catch multiple exceptions in a single 'except' block by specifying them as a tuple."
      ],
      "metadata": {
        "id": "g5Lr1Ti3b9ES"
      }
    },
    {
      "cell_type": "markdown",
      "source": [
        "8. What is the purpose of the with statement when handling files in Python?\n",
        "*  The with statement replaces a try-catch block with a concise shorthand. More importantly, it ensures closing resources right after processing them. A common example of using the with statement is reading or writing to a file"
      ],
      "metadata": {
        "id": "DQC7gCSOcEUo"
      }
    },
    {
      "cell_type": "markdown",
      "source": [
        "9.What is the difference between multithreading and multiprocessing?\n",
        "*  Multiprocessing is used to create a more reliable system, whereas multithreading is used to create threads that run parallel to each other."
      ],
      "metadata": {
        "id": "o2AnLdJJdxrs"
      }
    },
    {
      "cell_type": "markdown",
      "source": [
        "10. What are the advantages of using logging in a program?\n",
        "*  Python logging is a module that allows you to track events that occur while your program is running."
      ],
      "metadata": {
        "id": "v2oueKcleiAg"
      }
    },
    {
      "cell_type": "markdown",
      "source": [
        "11. What is memory management in Python?\n",
        "*  Memory management in Python involves a private heap containing all Python objects and data structures. The management of this private heap is ensured internally by the Python memory manager."
      ],
      "metadata": {
        "id": "PhJqWhbvfBga"
      }
    },
    {
      "cell_type": "markdown",
      "source": [
        "12. What are the basic steps involved in exception handling in Python?\n",
        "*  In Python, exception handling uses try, except, else, and finally blocks to gracefully manage errors and exceptions during program execution, preventing crashes and allowing for controlled responses to unexpected situation."
      ],
      "metadata": {
        "id": "E9P-EylKfXHk"
      }
    },
    {
      "cell_type": "markdown",
      "source": [
        "13. Why is memory management important in Python?\n",
        "*  Memory management is crucial in Python, and other programming languages, because it ensures efficient resource utilization, prevents memory leaks, and improves overall application performance and stability."
      ],
      "metadata": {
        "id": "8MXwMdrpgjId"
      }
    },
    {
      "cell_type": "markdown",
      "source": [
        "14. What is the role of try and except in exception handling?\n",
        "*  A Try-Except statement is a code block that allows your program to take alternative actions in case an error occurs."
      ],
      "metadata": {
        "id": "ycuEMeqwhRBT"
      }
    },
    {
      "cell_type": "markdown",
      "source": [
        "15. How does Python's garbage collection system work?\n",
        "*  Python employs a hybrid garbage collection system that combines reference counting with a generational garbage collector to manage memory automatically, identifying and reclaiming memory occupied by unused objects."
      ],
      "metadata": {
        "id": "VQk8tK4phyTP"
      }
    },
    {
      "cell_type": "markdown",
      "source": [
        "16. What is the purpose of the else block in exception handling?\n",
        "*  The 'else' block is useful when you want to perform specific actions when no exceptions occur. It can be used, for example, to execute additional code if the 'try' block succeeds in its operation and enhances the program flow."
      ],
      "metadata": {
        "id": "AL0x8-X0iBYa"
      }
    },
    {
      "cell_type": "markdown",
      "source": [
        "17. What are the common logging levels in Python?\n",
        "*  The specific log levels available to you may defer depending on the programming language, logging framework, or service in use. However, in most cases, you can expect to encounter levels such as FATAL , ERROR , WARN , INFO , DEBUG , and TRACE ."
      ],
      "metadata": {
        "id": "jq4mCh7QicW-"
      }
    },
    {
      "cell_type": "markdown",
      "source": [
        "18. What is the difference between os.fork() and multiprocessing in Python\"?\n",
        "*  The term process refers to a program that is in its execution mode. Here, fork() acts as a system call that helps in creating processes."
      ],
      "metadata": {
        "id": "KCTLX0J-jQvt"
      }
    },
    {
      "cell_type": "markdown",
      "source": [
        "19. What is the importance of closing a file in Python?\n",
        "*  Closing a file is a crucial part of file management in programming, as it ensures the release of system resources, data integrity, and prevents data corruption."
      ],
      "metadata": {
        "id": "nVOPhXWykQ0l"
      }
    },
    {
      "cell_type": "markdown",
      "source": [
        "20. What is the difference between file.read() and file.readline() in Python?\n",
        "*  In Python, read() reads the entire file content as a single string, while readline() reads a single line from the file at a time, returning it as a string."
      ],
      "metadata": {
        "id": "I54W2yI1kgNd"
      }
    },
    {
      "cell_type": "markdown",
      "source": [
        "21. What is the logging module in Python used for?\n",
        "*  The logging module in Python is used for tracking events that occur during program execution, making it an essential tool for debugging, troubleshooting, and monitoring applications."
      ],
      "metadata": {
        "id": "UYbn1RB0njqm"
      }
    },
    {
      "cell_type": "markdown",
      "source": [
        "22. What is the os module in Python used for in file handling?\n",
        "*  \n",
        "Python has a built-in os module with methods for interacting with the operating system, like creating files and directories, management of files and directories, input, output, environment variables, process management."
      ],
      "metadata": {
        "id": "eFtnAnn_nzFz"
      }
    },
    {
      "cell_type": "markdown",
      "source": [
        "23. What are the challenges associated with memory management in Python?\n",
        "*  Python's automatic memory management, while simplifying development, presents challenges like potential memory leaks due to circular references, performance overhead from garbage collection, and difficulty in optimizing memory usage for specific applications."
      ],
      "metadata": {
        "id": "htkoYOUOn9Xt"
      }
    },
    {
      "cell_type": "markdown",
      "source": [
        "24.  How do you raise an exception manually in Python?\n",
        "*  To manually raise an exception in Python, use the raise statement."
      ],
      "metadata": {
        "id": "62NvdIUNoUZD"
      }
    },
    {
      "cell_type": "markdown",
      "source": [
        "25. Why is it important to use multithreading in certain applications?\n",
        "*  Multithreading is crucial for certain applications as it enables concurrent execution of tasks, leading to improved performance, better resource utilization, increased responsiveness, and enhanced scalability."
      ],
      "metadata": {
        "id": "jxLgeZaNouz1"
      }
    },
    {
      "cell_type": "markdown",
      "source": [
        "              \n",
        "              PRACTICAL QUESTIONS"
      ],
      "metadata": {
        "id": "yc3DnY2kpBtY"
      }
    },
    {
      "cell_type": "markdown",
      "source": [
        "1.How can you open a file for writing in Python and write a string to it."
      ],
      "metadata": {
        "id": "dyTBEXB2p2eX"
      }
    },
    {
      "cell_type": "code",
      "source": [
        "f = open(\"demofile2.txt\", \"a\")\n",
        "f.write(\"Now the file has more content!\")\n",
        "f.close()\n",
        "\n",
        "#open and read the file after the appending:\n",
        "f = open(\"demofile2.txt\", \"r\")\n",
        "print(f.read())"
      ],
      "metadata": {
        "colab": {
          "base_uri": "https://localhost:8080/"
        },
        "id": "XygA82PCpQHY",
        "outputId": "a5bb0dc8-63d8-4b52-907f-f2ef50b5d4f8"
      },
      "execution_count": null,
      "outputs": [
        {
          "output_type": "stream",
          "name": "stdout",
          "text": [
            "Now the file has more content!\n"
          ]
        }
      ]
    },
    {
      "cell_type": "markdown",
      "source": [
        "2. Write a Python program to read the contents of a file and print each line"
      ],
      "metadata": {
        "id": "hVxp8x-FrHIK"
      }
    },
    {
      "cell_type": "code",
      "source": [
        " f = open(\"demofile2.txt\", \"r\")\n",
        "print(f.read())\n"
      ],
      "metadata": {
        "colab": {
          "base_uri": "https://localhost:8080/"
        },
        "id": "h7MQ54yHx3cY",
        "outputId": "a9dad02a-4718-47ac-f80d-4d16df3b6046"
      },
      "execution_count": null,
      "outputs": [
        {
          "output_type": "stream",
          "name": "stdout",
          "text": [
            "Now the file has more content!\n"
          ]
        }
      ]
    },
    {
      "cell_type": "markdown",
      "source": [
        "3.How would you handle a case where the file doesn't exist while trying to open it for reading."
      ],
      "metadata": {
        "id": "Y9Yv66GisO0H"
      }
    },
    {
      "cell_type": "code",
      "source": [
        "  try:\n",
        "  f = open(\"demofile.txt\")\n",
        "  try:\n",
        "    f.write(\"Lorum Ipsum\")\n",
        "  except:\n",
        " try:\n",
        "  f = open(\"demofile.txt\", \"w\")\n",
        "  try:\n",
        "    f.write(\"Lorum Ipsum\")\n",
        "  except:\n",
        "    print(\"Something went wrong when writing to the file\")\n",
        "  finally:\n",
        "    f.close()"
      ],
      "metadata": {
        "colab": {
          "base_uri": "https://localhost:8080/",
          "height": 106
        },
        "id": "ifZZcyegsTxd",
        "outputId": "0d000d19-09d2-4270-eb12-25e045c2ad42"
      },
      "execution_count": null,
      "outputs": [
        {
          "output_type": "error",
          "ename": "IndentationError",
          "evalue": "expected an indented block after 'try' statement on line 1 (<ipython-input-26-e0fb9cf998a2>, line 2)",
          "traceback": [
            "\u001b[0;36m  File \u001b[0;32m\"<ipython-input-26-e0fb9cf998a2>\"\u001b[0;36m, line \u001b[0;32m2\u001b[0m\n\u001b[0;31m    f = open(\"demofile.txt\")\u001b[0m\n\u001b[0m    ^\u001b[0m\n\u001b[0;31mIndentationError\u001b[0m\u001b[0;31m:\u001b[0m expected an indented block after 'try' statement on line 1\n"
          ]
        }
      ]
    },
    {
      "cell_type": "markdown",
      "source": [
        "4.Write a Python script that reads from one file and writes its content to another file"
      ],
      "metadata": {
        "id": "rpzwDbIY2yKY"
      }
    },
    {
      "cell_type": "code",
      "source": [
        "def copy_file_contents(source_file, destination_file):\n",
        "    \"\"\"Copies the contents of one file to another.\n",
        "\n",
        "    Args:\n",
        "        source_file: The path to the source file.\n",
        "        destination_file: The path to the destination file.\n",
        "    \"\"\"\n",
        "    try:\n",
        "        with open(source_file, 'r') as src, open(destination_file, 'w') as dst:\n",
        "            for line in src:\n",
        "                dst.write(line)\n",
        "    except FileNotFoundError:\n",
        "        print(f\"Error: Source file '{source_file}' not found.\")\n",
        "    except Exception as e:\n",
        "        print(f\"An error occurred: {e}\")\n",
        "\n",
        "# Example Usage:\n",
        "source_file_path = \"input.txt\"  # Replace with the path to your source file\n",
        "destination_file_path = \"output.txt\"  # Replace with the path to your destination file\n",
        "\n",
        "copy_file_contents(source_file_path, destination_file_path)"
      ],
      "metadata": {
        "colab": {
          "base_uri": "https://localhost:8080/"
        },
        "id": "-VYn7SC021-m",
        "outputId": "8f94565a-dce3-4931-dea6-a6d9580373fa"
      },
      "execution_count": null,
      "outputs": [
        {
          "output_type": "stream",
          "name": "stdout",
          "text": [
            "Error: Source file 'input.txt' not found.\n"
          ]
        }
      ]
    },
    {
      "cell_type": "markdown",
      "source": [
        "5. How would you catch and handle division by zero error in Python."
      ],
      "metadata": {
        "id": "zfXJYjN_3MEX"
      }
    },
    {
      "cell_type": "code",
      "source": [
        "try:\n",
        "    numerator = 1\n",
        "    denominator = 0\n",
        "\n",
        "    if denominator == 0:\n",
        "        raise ArithmeticError(\"Division by zero\")\n",
        "\n",
        "    print(\"Result:\", numerator / denominator)\n",
        "\n",
        "except ArithmeticError as ae:\n",
        "    print(\"Error: Division by zero is not allowed.\")\n",
        "except ValueError as ime:\n",
        "    print(\"Error: Please enter valid integer values.\")\n",
        "except Exception as e:\n",
        "    print(\"An unexpected error occurred:\", str(e))\n",
        "finally:\n",
        "    # finally block\n",
        "    pass"
      ],
      "metadata": {
        "colab": {
          "base_uri": "https://localhost:8080/"
        },
        "id": "q7yl5dXv3N3z",
        "outputId": "af4d28e4-e45a-4962-ead0-5e5875f2ed52"
      },
      "execution_count": null,
      "outputs": [
        {
          "output_type": "stream",
          "name": "stdout",
          "text": [
            "Error: Division by zero is not allowed.\n"
          ]
        }
      ]
    },
    {
      "cell_type": "markdown",
      "source": [
        "6.Write a Python program that logs an error message to a log file when a division by zero exception occurs."
      ],
      "metadata": {
        "id": "P1muXE4E4NID"
      }
    },
    {
      "cell_type": "code",
      "source": [
        "# Define a function named divide_numbers that takes two parameters: x and y.\n",
        "def divide_numbers(x, y):\n",
        "    try:\n",
        "        # Attempt to perform the division operation and store the result in the 'result' variable.\n",
        "        result = x / y\n",
        "        # Print the result of the division.\n",
        "        print(\"Result:\", result)\n",
        "    except ZeroDivisionError:\n",
        "        # Handle the exception if a division by zero is attempted.\n",
        "        print(\"The division by zero operation is not allowed.\")\n",
        "\n",
        "# Usage\n",
        "# Define the numerator and denominator values.\n",
        "numerator = 100\n",
        "denominator = 0\n",
        "# Call the divide_numbers function with the provided numerator and denominator.\n",
        "divide_numbers(numerator, denominator)\n"
      ],
      "metadata": {
        "colab": {
          "base_uri": "https://localhost:8080/"
        },
        "id": "g0TAPHQa7tip",
        "outputId": "85966b77-0b1d-4b9d-8889-ac4896808808"
      },
      "execution_count": null,
      "outputs": [
        {
          "output_type": "stream",
          "name": "stdout",
          "text": [
            "The division by zero operation is not allowed.\n"
          ]
        }
      ]
    },
    {
      "cell_type": "markdown",
      "source": [
        "7. How do you log information at different levels (INFO, ERROR, WARNING) in Python using the logging module."
      ],
      "metadata": {
        "id": "U__G5ZKa74se"
      }
    },
    {
      "cell_type": "code",
      "source": [
        "# importing the module\n",
        "import logging\n",
        "\n",
        "try:\n",
        "\tprintf(\"GeeksforGeeks\")\n",
        "except Exception as Argument:\n",
        "\tlogging.exception(\"Error occurred while printing GeeksforGeeks\")\n"
      ],
      "metadata": {
        "colab": {
          "base_uri": "https://localhost:8080/"
        },
        "id": "tkZ9hzFe79iQ",
        "outputId": "af7cce47-2f4f-4caa-a502-ac160ea7677e"
      },
      "execution_count": null,
      "outputs": [
        {
          "output_type": "stream",
          "name": "stderr",
          "text": [
            "ERROR:root:Error occurred while printing GeeksforGeeks\n",
            "Traceback (most recent call last):\n",
            "  File \"<ipython-input-30-4f520803e66f>\", line 5, in <cell line: 0>\n",
            "    printf(\"GeeksforGeeks\")\n",
            "    ^^^^^^\n",
            "NameError: name 'printf' is not defined\n"
          ]
        }
      ]
    },
    {
      "cell_type": "markdown",
      "source": [
        "8.Write a program to handle a file opening error using exception handling."
      ],
      "metadata": {
        "id": "rmLjPdow8OR_"
      }
    },
    {
      "cell_type": "code",
      "source": [
        "\n",
        "# Example of handling FileNotFoundError\n",
        "try:\n",
        "    file = open(\"nonexistent_file.txt\", \"r\")\n",
        "    content = file.read()\n",
        "    print(content)\n",
        "    file.close()\n",
        "except FileNotFoundError:\n",
        "    print(\"The file does not exist!\")\n",
        "\n",
        "# Example of handling PermissionError\n",
        "try:\n",
        "    file = open(\"/etc/sensitive_file.txt\", \"w\")\n",
        "    file.write(\"Top secret information!\")\n",
        "    file.close()\n",
        "except PermissionError:\n",
        "    print(\"You don't have permission to write to this file!\")\n",
        "\n",
        "# Example of handling IOError\n",
        "try:\n",
        "    file = open(\"corrupted_file.txt\", \"r\")\n",
        "    content = file.read()\n",
        "    print(content)\n",
        "    file.close()\n",
        "except IOError:\n",
        "    print(\"An error occurred while reading the file!\")\n"
      ],
      "metadata": {
        "colab": {
          "base_uri": "https://localhost:8080/"
        },
        "id": "ghvTWMF_8R3c",
        "outputId": "b2b15ec0-4f50-4cdc-831b-5f3568afb49c"
      },
      "execution_count": null,
      "outputs": [
        {
          "output_type": "stream",
          "name": "stdout",
          "text": [
            "The file does not exist!\n",
            "An error occurred while reading the file!\n"
          ]
        }
      ]
    },
    {
      "cell_type": "markdown",
      "source": [
        "9.How can you read a file line by line and store its content in a list in Python."
      ],
      "metadata": {
        "id": "Ktf1QuV1825S"
      }
    },
    {
      "cell_type": "code",
      "source": [
        "\n",
        "with open('filename.txt', 'r') as file:\n",
        "    lines = file.readlines()\n",
        "\n",
        "print(lines)\n",
        "with open('filename.txt', 'r') as file:\n",
        "    lines = [line.strip() for line in file]\n"
      ],
      "metadata": {
        "id": "E3M9oP__865l",
        "colab": {
          "base_uri": "https://localhost:8080/"
        },
        "outputId": "29d8cb0a-73b4-4639-d80e-771d9747ee91"
      },
      "execution_count": 14,
      "outputs": [
        {
          "output_type": "stream",
          "name": "stdout",
          "text": [
            "['Line 1\\n', 'Line 2\\n']\n"
          ]
        }
      ]
    },
    {
      "cell_type": "markdown",
      "source": [
        "10.How can you append data to an existing file in Python."
      ],
      "metadata": {
        "id": "FiL6ihkP-kJh"
      }
    },
    {
      "cell_type": "code",
      "source": [
        "lines_to_add = ['Line 1\\n', 'Line 2\\n']\n",
        "with open('filename.txt', 'a') as file:\n",
        "    file.writelines(lines_to_add)\n"
      ],
      "metadata": {
        "id": "JByaDxGe-pSV"
      },
      "execution_count": 13,
      "outputs": []
    },
    {
      "cell_type": "markdown",
      "source": [
        "11.Write a Python program that uses a try-except block to handle an error when attempting to access a\n",
        "dictionary key that doesn't exist."
      ],
      "metadata": {
        "id": "XQOMQbeK-ySj"
      }
    },
    {
      "cell_type": "code",
      "source": [
        "# Sample dictionary\n",
        "my_dict = {\n",
        "    'name': 'Alice',\n",
        "    'age': 30\n",
        "}\n",
        "\n",
        "# Attempt to access a key that may not exist\n",
        "key_to_access = 'email'\n",
        "\n",
        "try:\n",
        "    value = my_dict[key_to_access]\n",
        "    print(f\"The value for '{key_to_access}' is: {value}\")\n",
        "except KeyError:\n",
        "    print(f\"Error: The key '{key_to_access}' does not exist in the dictionary.\")\n"
      ],
      "metadata": {
        "colab": {
          "base_uri": "https://localhost:8080/"
        },
        "id": "KD1GsXo3-9WA",
        "outputId": "6bae1c86-86f2-4fc0-ae49-f830a52eed5b"
      },
      "execution_count": 15,
      "outputs": [
        {
          "output_type": "stream",
          "name": "stdout",
          "text": [
            "Error: The key 'email' does not exist in the dictionary.\n"
          ]
        }
      ]
    },
    {
      "cell_type": "markdown",
      "source": [
        "12.Write a program that demonstrates using multiple except blocks to handle different types of exceptions."
      ],
      "metadata": {
        "id": "63nniu3P-__R"
      }
    },
    {
      "cell_type": "code",
      "source": [
        "try:\n",
        "    # Example inputs\n",
        "    num1 = int(input(\"Enter a number: \"))\n",
        "    num2 = int(input(\"Enter another number: \"))\n",
        "\n",
        "    # Risky operation: division\n",
        "    result = num1 / num2\n",
        "\n",
        "    # Risky operation: accessing a list index\n",
        "    my_list = [1, 2, 3]\n",
        "    print(\"Accessing element:\", my_list[5])\n",
        "\n",
        "except ZeroDivisionError:\n",
        "    print(\"Error: Cannot divide by zero.\")\n",
        "\n",
        "except ValueError:\n",
        "    print(\"Error: Invalid input. Please enter a number.\")\n",
        "\n",
        "except IndexError:\n",
        "    print(\"Error: List index out of range.\")\n",
        "\n",
        "except Exception as e:\n",
        "    print(f\"An unexpected error occurred: {e}\")\n",
        "\n",
        "else:\n",
        "    print(\"Operation successful! Result:\", result)\n",
        "\n",
        "finally:\n",
        "    print(\"Program finished.\")\n"
      ],
      "metadata": {
        "colab": {
          "base_uri": "https://localhost:8080/"
        },
        "id": "J4GgHJgA_FPZ",
        "outputId": "f84291dc-d11c-4422-966f-76342a7f1dca"
      },
      "execution_count": 16,
      "outputs": [
        {
          "output_type": "stream",
          "name": "stdout",
          "text": [
            "Enter a number: 1\n",
            "Enter another number: 2\n",
            "Error: List index out of range.\n",
            "Program finished.\n"
          ]
        }
      ]
    },
    {
      "cell_type": "markdown",
      "source": [
        "13.How would you check if a file exists before attempting to read it in Python."
      ],
      "metadata": {
        "id": "9PS3j1oS_Q4a"
      }
    },
    {
      "cell_type": "code",
      "source": [
        "import os\n",
        "\n",
        "filename = 'example.txt'\n",
        "\n",
        "if os.path.exists(filename):\n",
        "    with open(filename, 'r') as file:\n",
        "        content = file.read()\n",
        "        print(content)\n",
        "else:\n",
        "    print(f\"File '{filename}' does not exist.\")\n"
      ],
      "metadata": {
        "colab": {
          "base_uri": "https://localhost:8080/"
        },
        "id": "PrHN2Rrr_WbS",
        "outputId": "ea59657c-345b-42f6-d5c1-2d0e98cb537f"
      },
      "execution_count": 17,
      "outputs": [
        {
          "output_type": "stream",
          "name": "stdout",
          "text": [
            "File 'example.txt' does not exist.\n"
          ]
        }
      ]
    },
    {
      "cell_type": "markdown",
      "source": [
        "14.Write a program that uses the logging module to log both informational and error messages."
      ],
      "metadata": {
        "id": "qzT3-w4k_dDw"
      }
    },
    {
      "cell_type": "code",
      "source": [
        "import logging\n",
        "\n",
        "# Configure logging\n",
        "logging.basicConfig(\n",
        "    level=logging.DEBUG,  # Capture all levels of logs\n",
        "    format='%(asctime)s - %(levelname)s - %(message)s',\n",
        "    filename='app.log',  # Log output will go to this file\n",
        "    filemode='w'  # Overwrite the log file each time\n",
        ")\n",
        "\n",
        "def divide_numbers(a, b):\n",
        "    logging.info(f\"Attempting to divide {a} by {b}\")\n",
        "    try:\n",
        "        result = a / b\n",
        "        logging.info(f\"Division successful: {result}\")\n",
        "        return result\n",
        "    except ZeroDivisionError as e:\n",
        "        logging.error(\"Division by zero error!\", exc_info=True)\n",
        "    except Exception as e:\n",
        "        logging.error(\"An unexpected error occurred.\", exc_info=True)\n",
        "\n",
        "# Example usage\n",
        "divide_numbers(10, 2)\n",
        "divide_numbers(5, 0)\n",
        "divide_numbers('a', 3)  # This will cause a TypeError\n"
      ],
      "metadata": {
        "colab": {
          "base_uri": "https://localhost:8080/"
        },
        "id": "ybAHmuQs_i09",
        "outputId": "25e01a00-4437-4d8c-c3ed-6e4589e6b5da"
      },
      "execution_count": 18,
      "outputs": [
        {
          "output_type": "stream",
          "name": "stderr",
          "text": [
            "ERROR:root:Division by zero error!\n",
            "Traceback (most recent call last):\n",
            "  File \"<ipython-input-18-ba933d1c0835>\", line 14, in divide_numbers\n",
            "    result = a / b\n",
            "             ~~^~~\n",
            "ZeroDivisionError: division by zero\n",
            "ERROR:root:An unexpected error occurred.\n",
            "Traceback (most recent call last):\n",
            "  File \"<ipython-input-18-ba933d1c0835>\", line 14, in divide_numbers\n",
            "    result = a / b\n",
            "             ~~^~~\n",
            "TypeError: unsupported operand type(s) for /: 'str' and 'int'\n"
          ]
        }
      ]
    },
    {
      "cell_type": "markdown",
      "source": [
        "15.Write a Python program that prints the content of a file and handles the case when the file is empty."
      ],
      "metadata": {
        "id": "5HV5lbh7_qdN"
      }
    },
    {
      "cell_type": "code",
      "source": [
        "def print_file_contents(filename):\n",
        "    try:\n",
        "        with open(filename, 'r') as file:\n",
        "            content = file.read()\n",
        "\n",
        "            if not content.strip():  # Check if content is empty or just whitespace\n",
        "                print(f\"The file '{filename}' is empty.\")\n",
        "            else:\n",
        "                print(\"File Contents:\\n\")\n",
        "                print(content)\n",
        "\n",
        "    except FileNotFoundError:\n",
        "        print(f\"Error: The file '{filename}' does not exist.\")\n",
        "    except Exception as e:\n",
        "        print(f\"An error occurred while reading the file: {e}\")\n",
        "\n",
        "# Example usage\n",
        "file_to_check = 'example.txt'\n",
        "print_file_contents(file_to_check)\n"
      ],
      "metadata": {
        "colab": {
          "base_uri": "https://localhost:8080/"
        },
        "id": "Y4Vxymjj_v8s",
        "outputId": "c2a11622-5089-438d-a47a-86b5eb244cb5"
      },
      "execution_count": 19,
      "outputs": [
        {
          "output_type": "stream",
          "name": "stdout",
          "text": [
            "Error: The file 'example.txt' does not exist.\n"
          ]
        }
      ]
    },
    {
      "cell_type": "markdown",
      "source": [
        "16.Demonstrate how to use memory profiling to check the memory usage of a small program."
      ],
      "metadata": {
        "id": "kVc72M6EABqH"
      }
    },
    {
      "cell_type": "code",
      "source": [
        "from memory_profiler import profile\n",
        "\n",
        "@profile\n",
        "def create_large_list():\n",
        "    large_list = [i for i in range(1000000)]\n",
        "    return sum(large_list)\n",
        "\n",
        "if __name__ == \"__main__\":\n",
        "    create_large_list()\n"
      ],
      "metadata": {
        "colab": {
          "base_uri": "https://localhost:8080/",
          "height": 383
        },
        "id": "Eu63WJuzCtJC",
        "outputId": "a34a3275-cd0f-4978-9513-eb8691770bd7"
      },
      "execution_count": 53,
      "outputs": [
        {
          "output_type": "error",
          "ename": "ModuleNotFoundError",
          "evalue": "No module named 'memory_profiler'",
          "traceback": [
            "\u001b[0;31m---------------------------------------------------------------------------\u001b[0m",
            "\u001b[0;31mModuleNotFoundError\u001b[0m                       Traceback (most recent call last)",
            "\u001b[0;32m<ipython-input-53-bbcc9273265c>\u001b[0m in \u001b[0;36m<cell line: 0>\u001b[0;34m()\u001b[0m\n\u001b[0;32m----> 1\u001b[0;31m \u001b[0;32mfrom\u001b[0m \u001b[0mmemory_profiler\u001b[0m \u001b[0;32mimport\u001b[0m \u001b[0mprofile\u001b[0m\u001b[0;34m\u001b[0m\u001b[0;34m\u001b[0m\u001b[0m\n\u001b[0m\u001b[1;32m      2\u001b[0m \u001b[0;34m\u001b[0m\u001b[0m\n\u001b[1;32m      3\u001b[0m \u001b[0;34m@\u001b[0m\u001b[0mprofile\u001b[0m\u001b[0;34m\u001b[0m\u001b[0;34m\u001b[0m\u001b[0m\n\u001b[1;32m      4\u001b[0m \u001b[0;32mdef\u001b[0m \u001b[0mcreate_large_list\u001b[0m\u001b[0;34m(\u001b[0m\u001b[0;34m)\u001b[0m\u001b[0;34m:\u001b[0m\u001b[0;34m\u001b[0m\u001b[0;34m\u001b[0m\u001b[0m\n\u001b[1;32m      5\u001b[0m     \u001b[0mlarge_list\u001b[0m \u001b[0;34m=\u001b[0m \u001b[0;34m[\u001b[0m\u001b[0mi\u001b[0m \u001b[0;32mfor\u001b[0m \u001b[0mi\u001b[0m \u001b[0;32min\u001b[0m \u001b[0mrange\u001b[0m\u001b[0;34m(\u001b[0m\u001b[0;36m1000000\u001b[0m\u001b[0;34m)\u001b[0m\u001b[0;34m]\u001b[0m\u001b[0;34m\u001b[0m\u001b[0;34m\u001b[0m\u001b[0m\n",
            "\u001b[0;31mModuleNotFoundError\u001b[0m: No module named 'memory_profiler'",
            "",
            "\u001b[0;31m---------------------------------------------------------------------------\u001b[0;32m\nNOTE: If your import is failing due to a missing package, you can\nmanually install dependencies using either !pip or !apt.\n\nTo view examples of installing some common dependencies, click the\n\"Open Examples\" button below.\n\u001b[0;31m---------------------------------------------------------------------------\u001b[0m\n"
          ],
          "errorDetails": {
            "actions": [
              {
                "action": "open_url",
                "actionText": "Open Examples",
                "url": "/notebooks/snippets/importing_libraries.ipynb"
              }
            ]
          }
        }
      ]
    },
    {
      "cell_type": "markdown",
      "source": [
        "17.Write a Python program to create and write a list of numbers to a file, one number per line."
      ],
      "metadata": {
        "id": "8lDr8X6VCfLr"
      }
    },
    {
      "cell_type": "code",
      "source": [
        "# Define a list of numbers\n",
        "numbers = [1, 2, 3, 4, 5, 10, 15, 20]\n",
        "\n",
        "# Specify the file name\n",
        "filename = 'numbers.txt'\n",
        "\n",
        "# Open the file in write mode and write each number on a new line\n",
        "with open(filename, 'w') as file:\n",
        "    for number in numbers:\n",
        "        file.write(f\"{number}\\n\")\n",
        "\n",
        "print(f\"Successfully wrote {len(numbers)} numbers to '{filename}'.\")\n"
      ],
      "metadata": {
        "colab": {
          "base_uri": "https://localhost:8080/"
        },
        "id": "3A0djswSCkfw",
        "outputId": "185cf86e-3481-4ff5-d585-e8d91d6482e7"
      },
      "execution_count": 52,
      "outputs": [
        {
          "output_type": "stream",
          "name": "stdout",
          "text": [
            "Successfully wrote 8 numbers to 'numbers.txt'.\n"
          ]
        }
      ]
    },
    {
      "cell_type": "markdown",
      "source": [
        "18.How would you implement a basic logging setup that logs to a file with rotation after 1MB."
      ],
      "metadata": {
        "id": "G4U3_pBEC0uq"
      }
    },
    {
      "cell_type": "code",
      "source": [
        "import logging\n",
        "from logging.handlers import RotatingFileHandler\n",
        "\n",
        "# Set up the logger\n",
        "logger = logging.getLogger('my_logger')\n",
        "logger.setLevel(logging.DEBUG)\n",
        "\n",
        "# Create a RotatingFileHandler that rotates after 1MB\n",
        "handler = RotatingFileHandler('app.log', maxBytes=1*1024*1024, backupCount=3)\n",
        "handler.setLevel(logging.DEBUG)\n",
        "\n",
        "# Create a formatter and set it for the handler\n",
        "formatter = logging.Formatter('%(asctime)s - %(levelname)s - %(message)s')\n",
        "handler.setFormatter(formatter)\n",
        "\n",
        "# Add the handler to the logger\n",
        "logger.addHandler(handler)\n",
        "\n",
        "# Test logging\n",
        "logger.debug(\"This is a debug message\")\n",
        "logger.info(\"This is an info message\")\n",
        "logger.warning(\"This is a warning message\")\n",
        "logger.error(\"This is an error message\")\n",
        "logger.critical(\"This is a critical message\")\n",
        "\n",
        "# You can add more logs here to test the file rotation\n"
      ],
      "metadata": {
        "colab": {
          "base_uri": "https://localhost:8080/"
        },
        "id": "eDCW1vg-C4xK",
        "outputId": "da65c9a2-5abb-4445-b4e0-90791ae9f102"
      },
      "execution_count": 54,
      "outputs": [
        {
          "output_type": "stream",
          "name": "stderr",
          "text": [
            "DEBUG:my_logger:This is a debug message\n",
            "INFO:my_logger:This is an info message\n",
            "WARNING:my_logger:This is a warning message\n",
            "ERROR:my_logger:This is an error message\n",
            "CRITICAL:my_logger:This is a critical message\n"
          ]
        }
      ]
    },
    {
      "cell_type": "markdown",
      "source": [
        "19.Write a program that handles both IndexError and KeyError using a try-except block."
      ],
      "metadata": {
        "id": "bMT4rujxC-sF"
      }
    },
    {
      "cell_type": "code",
      "source": [
        "def access_data(data, index, key):\n",
        "    try:\n",
        "        # Try to access the list element by index\n",
        "        item = data[index]\n",
        "        print(f\"Item at index {index}: {item}\")\n",
        "\n",
        "        # Try to access the dictionary value by key\n",
        "        value = data[key]\n",
        "        print(f\"Value for key '{key}': {value}\")\n",
        "\n",
        "    except IndexError:\n",
        "        print(f\"Error: The index {index} is out of range.\")\n",
        "    except KeyError:\n",
        "        print(f\"Error: The key '{key}' does not exist in the dictionary.\")\n",
        "    except Exception as e:\n",
        "        print(f\"An unexpected error occurred: {e}\")\n",
        "\n",
        "# Example usage\n",
        "data_list = [10, 20, 30]\n",
        "data_dict = {'name': 'Alice', 'age': 30}\n",
        "\n",
        "# Test with valid index and key\n",
        "access_data((data_list, data_dict), 1, 'name')\n",
        "\n",
        "# Test with an invalid index\n",
        "access_data((data_list, data_dict), 5, 'name')\n",
        "\n",
        "# Test with an invalid key\n",
        "access_data((data_list, data_dict), 1, 'email')\n"
      ],
      "metadata": {
        "colab": {
          "base_uri": "https://localhost:8080/"
        },
        "id": "RAGSlAeMDDV5",
        "outputId": "b0171e53-3832-424c-b942-3270f0aca413"
      },
      "execution_count": 55,
      "outputs": [
        {
          "output_type": "stream",
          "name": "stdout",
          "text": [
            "Item at index 1: {'name': 'Alice', 'age': 30}\n",
            "An unexpected error occurred: tuple indices must be integers or slices, not str\n",
            "Error: The index 5 is out of range.\n",
            "Item at index 1: {'name': 'Alice', 'age': 30}\n",
            "An unexpected error occurred: tuple indices must be integers or slices, not str\n"
          ]
        }
      ]
    },
    {
      "cell_type": "markdown",
      "source": [
        "20.How would you open a file and read its contents using a context manager in Python."
      ],
      "metadata": {
        "id": "WA6notuPDJvO"
      }
    },
    {
      "cell_type": "code",
      "source": [
        "# Using a context manager to open and read a file\n",
        "filename =  'example.txt'\n",
        "\n",
        "with open(filename, 'r') as file:\n",
        "    content = file.read()  # Read the entire file content\n",
        "    print(content)  # Print the content of the file\n"
      ],
      "metadata": {
        "colab": {
          "base_uri": "https://localhost:8080/",
          "height": 211
        },
        "id": "df_zSHWnDNh5",
        "outputId": "b905cd81-005b-49fd-9f54-838adfe0c32c"
      },
      "execution_count": 65,
      "outputs": [
        {
          "output_type": "error",
          "ename": "FileNotFoundError",
          "evalue": "[Errno 2] No such file or directory: 'example.txt'",
          "traceback": [
            "\u001b[0;31m---------------------------------------------------------------------------\u001b[0m",
            "\u001b[0;31mFileNotFoundError\u001b[0m                         Traceback (most recent call last)",
            "\u001b[0;32m<ipython-input-65-58ef802efa26>\u001b[0m in \u001b[0;36m<cell line: 0>\u001b[0;34m()\u001b[0m\n\u001b[1;32m      2\u001b[0m \u001b[0mfilename\u001b[0m \u001b[0;34m=\u001b[0m  \u001b[0;34m'example.txt'\u001b[0m\u001b[0;34m\u001b[0m\u001b[0;34m\u001b[0m\u001b[0m\n\u001b[1;32m      3\u001b[0m \u001b[0;34m\u001b[0m\u001b[0m\n\u001b[0;32m----> 4\u001b[0;31m \u001b[0;32mwith\u001b[0m \u001b[0mopen\u001b[0m\u001b[0;34m(\u001b[0m\u001b[0mfilename\u001b[0m\u001b[0;34m,\u001b[0m \u001b[0;34m'r'\u001b[0m\u001b[0;34m)\u001b[0m \u001b[0;32mas\u001b[0m \u001b[0mfile\u001b[0m\u001b[0;34m:\u001b[0m\u001b[0;34m\u001b[0m\u001b[0;34m\u001b[0m\u001b[0m\n\u001b[0m\u001b[1;32m      5\u001b[0m     \u001b[0mcontent\u001b[0m \u001b[0;34m=\u001b[0m \u001b[0mfile\u001b[0m\u001b[0;34m.\u001b[0m\u001b[0mread\u001b[0m\u001b[0;34m(\u001b[0m\u001b[0;34m)\u001b[0m  \u001b[0;31m# Read the entire file content\u001b[0m\u001b[0;34m\u001b[0m\u001b[0;34m\u001b[0m\u001b[0m\n\u001b[1;32m      6\u001b[0m     \u001b[0mprint\u001b[0m\u001b[0;34m(\u001b[0m\u001b[0mcontent\u001b[0m\u001b[0;34m)\u001b[0m  \u001b[0;31m# Print the content of the file\u001b[0m\u001b[0;34m\u001b[0m\u001b[0;34m\u001b[0m\u001b[0m\n",
            "\u001b[0;31mFileNotFoundError\u001b[0m: [Errno 2] No such file or directory: 'example.txt'"
          ]
        }
      ]
    },
    {
      "cell_type": "markdown",
      "source": [
        "21. Write a Python program that reads a file and prints the number of occurrences of a specific word."
      ],
      "metadata": {
        "id": "poUdEQKwEXMd"
      }
    },
    {
      "cell_type": "code",
      "source": [
        "def count_word_occurrences(filename, word):\n",
        "    try:\n",
        "        with open(filename, 'r') as file:\n",
        "            content = file.read()  # Read the entire file content\n",
        "\n",
        "        # Count the occurrences of the word (case insensitive)\n",
        "        word_count = content.lower().split().count(word.lower())\n",
        "\n",
        "        print(f\"The word '{word}' appears {word_count} times in the file.\")\n",
        "\n",
        "    except FileNotFoundError:\n",
        "        print(f\"Error: The file '{filename}' does not exist.\")\n",
        "    except Exception as e:\n",
        "        print(f\"An error occurred: {e}\")\n",
        "\n",
        "# Example usage\n",
        "filename = 'example.txt'  # Replace with the path to your file\n",
        "word_to_count = 'python'   # Replace with the word you want to count\n",
        "count_word_occurrences(filename, word_to_count)\n"
      ],
      "metadata": {
        "colab": {
          "base_uri": "https://localhost:8080/"
        },
        "id": "LmspBAN4EbOs",
        "outputId": "3c17940b-5de6-4636-8a6e-938b6d05e12d"
      },
      "execution_count": 66,
      "outputs": [
        {
          "output_type": "stream",
          "name": "stdout",
          "text": [
            "Error: The file 'example.txt' does not exist.\n"
          ]
        }
      ]
    },
    {
      "cell_type": "markdown",
      "source": [
        "22.How can you check if a file is empty before attempting to read its contents."
      ],
      "metadata": {
        "id": "V2YShJ7VEhgv"
      }
    },
    {
      "cell_type": "code",
      "source": [
        "def read_file_if_not_empty(filename):\n",
        "    with open(filename, 'r') as file:\n",
        "        content = file.read()\n",
        "        if content:\n",
        "            print(\"File content:\\n\", content)\n",
        "        else:\n",
        "            print(f\"The file '{filename}' is empty.\")\n",
        "\n",
        "# Example usage\n",
        "filename = 'example.txt'\n",
        "read_file_if_not_empty(filename)\n",
        "\n"
      ],
      "metadata": {
        "colab": {
          "base_uri": "https://localhost:8080/",
          "height": 315
        },
        "id": "3KHLgkuyEl_q",
        "outputId": "5b4ba7e4-2a62-45ec-899b-09793783497c"
      },
      "execution_count": 68,
      "outputs": [
        {
          "output_type": "error",
          "ename": "FileNotFoundError",
          "evalue": "[Errno 2] No such file or directory: 'example.txt'",
          "traceback": [
            "\u001b[0;31m---------------------------------------------------------------------------\u001b[0m",
            "\u001b[0;31mFileNotFoundError\u001b[0m                         Traceback (most recent call last)",
            "\u001b[0;32m<ipython-input-68-b0d0eef26485>\u001b[0m in \u001b[0;36m<cell line: 0>\u001b[0;34m()\u001b[0m\n\u001b[1;32m      9\u001b[0m \u001b[0;31m# Example usage\u001b[0m\u001b[0;34m\u001b[0m\u001b[0;34m\u001b[0m\u001b[0m\n\u001b[1;32m     10\u001b[0m \u001b[0mfilename\u001b[0m \u001b[0;34m=\u001b[0m \u001b[0;34m'example.txt'\u001b[0m\u001b[0;34m\u001b[0m\u001b[0;34m\u001b[0m\u001b[0m\n\u001b[0;32m---> 11\u001b[0;31m \u001b[0mread_file_if_not_empty\u001b[0m\u001b[0;34m(\u001b[0m\u001b[0mfilename\u001b[0m\u001b[0;34m)\u001b[0m\u001b[0;34m\u001b[0m\u001b[0;34m\u001b[0m\u001b[0m\n\u001b[0m\u001b[1;32m     12\u001b[0m \u001b[0;34m\u001b[0m\u001b[0m\n",
            "\u001b[0;32m<ipython-input-68-b0d0eef26485>\u001b[0m in \u001b[0;36mread_file_if_not_empty\u001b[0;34m(filename)\u001b[0m\n\u001b[1;32m      1\u001b[0m \u001b[0;32mdef\u001b[0m \u001b[0mread_file_if_not_empty\u001b[0m\u001b[0;34m(\u001b[0m\u001b[0mfilename\u001b[0m\u001b[0;34m)\u001b[0m\u001b[0;34m:\u001b[0m\u001b[0;34m\u001b[0m\u001b[0;34m\u001b[0m\u001b[0m\n\u001b[0;32m----> 2\u001b[0;31m     \u001b[0;32mwith\u001b[0m \u001b[0mopen\u001b[0m\u001b[0;34m(\u001b[0m\u001b[0mfilename\u001b[0m\u001b[0;34m,\u001b[0m \u001b[0;34m'r'\u001b[0m\u001b[0;34m)\u001b[0m \u001b[0;32mas\u001b[0m \u001b[0mfile\u001b[0m\u001b[0;34m:\u001b[0m\u001b[0;34m\u001b[0m\u001b[0;34m\u001b[0m\u001b[0m\n\u001b[0m\u001b[1;32m      3\u001b[0m         \u001b[0mcontent\u001b[0m \u001b[0;34m=\u001b[0m \u001b[0mfile\u001b[0m\u001b[0;34m.\u001b[0m\u001b[0mread\u001b[0m\u001b[0;34m(\u001b[0m\u001b[0;34m)\u001b[0m\u001b[0;34m\u001b[0m\u001b[0;34m\u001b[0m\u001b[0m\n\u001b[1;32m      4\u001b[0m         \u001b[0;32mif\u001b[0m \u001b[0mcontent\u001b[0m\u001b[0;34m:\u001b[0m\u001b[0;34m\u001b[0m\u001b[0;34m\u001b[0m\u001b[0m\n\u001b[1;32m      5\u001b[0m             \u001b[0mprint\u001b[0m\u001b[0;34m(\u001b[0m\u001b[0;34m\"File content:\\n\"\u001b[0m\u001b[0;34m,\u001b[0m \u001b[0mcontent\u001b[0m\u001b[0;34m)\u001b[0m\u001b[0;34m\u001b[0m\u001b[0;34m\u001b[0m\u001b[0m\n",
            "\u001b[0;31mFileNotFoundError\u001b[0m: [Errno 2] No such file or directory: 'example.txt'"
          ]
        }
      ]
    },
    {
      "cell_type": "markdown",
      "source": [
        "23.Write a Python program that writes to a log file when an error occurs during file handling."
      ],
      "metadata": {
        "id": "8n3oQRU_EyRj"
      }
    },
    {
      "cell_type": "code",
      "source": [
        "import logging\n",
        "\n",
        "# Configure logging to log errors to a file\n",
        "logging.basicConfig(\n",
        "    level=logging.ERROR,\n",
        "    format='%(asctime)s - %(levelname)s - %(message)s',\n",
        "    filename='file_handling_errors.log',  # Log file where errors will be stored\n",
        "    filemode='a'  # Append to the log file (don't overwrite)\n",
        ")\n",
        "\n",
        "def read_file(filename):\n",
        "    try:\n",
        "        with open(filename, 'r') as file:\n",
        "            content = file.read()\n",
        "            print(content)\n",
        "    except FileNotFoundError:\n",
        "        error_message = f\"Error: The file '{filename}' does not exist.\"\n",
        "        print(error_message)\n",
        "        logging.error(error_message)  # Log the error to the file\n",
        "    except IOError as e:\n",
        "        error_message = f\"Error while handling file '{filename}': {e}\"\n",
        "        print(error_message)\n",
        "        logging.error(error_message)  # Log the error to the file\n",
        "    except Exception as e:\n",
        "        error_message = f\"Unexpected error: {e}\"\n",
        "        print(error_message)\n",
        "        logging.error(error_message)  # Log the error to the file\n",
        "\n",
        "# Example usage\n",
        "filename = 'non_existent_file.txt'\n",
        "read_file(filename)\n"
      ],
      "metadata": {
        "colab": {
          "base_uri": "https://localhost:8080/"
        },
        "id": "5JxOewVNE3Pa",
        "outputId": "b62fa345-0912-4d0d-8771-34d47fd2cd11"
      },
      "execution_count": 69,
      "outputs": [
        {
          "output_type": "stream",
          "name": "stderr",
          "text": [
            "ERROR:root:Error: The file 'non_existent_file.txt' does not exist.\n"
          ]
        },
        {
          "output_type": "stream",
          "name": "stdout",
          "text": [
            "Error: The file 'non_existent_file.txt' does not exist.\n"
          ]
        }
      ]
    }
  ]
}